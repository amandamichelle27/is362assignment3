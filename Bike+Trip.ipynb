{
 "cells": [
  {
   "cell_type": "markdown",
   "metadata": {},
   "source": [
    "# Bike Trip Miles Per Day\n",
    "\n",
    "First, we will randomly generate a series to represent the trip. The Dirichlet distribution can be used to randomly choose a set of numbers with a with a given size whose sum is one.\n",
    "\n",
    "We'll scale this up by 1500, a rough approximation of the total mileage of the trip, and also round each day to the nearest mile to make the numbers more readable, although the solution that follows would work equally well for decimal numbers.\n",
    "\n",
    "Lastly, we'll call the `cumsum` method to convert the series into the total cumulative mileage per day."
   ]
  },
  {
   "cell_type": "code",
   "execution_count": 26,
   "metadata": {
    "scrolled": false
   },
   "outputs": [
    {
     "name": "stdout",
     "output_type": "stream",
     "text": [
      "0       86\n",
      "1      165\n",
      "2      233\n",
      "3      308\n",
      "4      383\n",
      "5      448\n",
      "6      528\n",
      "7      604\n",
      "8      678\n",
      "9      766\n",
      "10     845\n",
      "11     915\n",
      "12     983\n",
      "13    1046\n",
      "14    1117\n",
      "15    1196\n",
      "16    1275\n",
      "17    1354\n",
      "18    1425\n",
      "19    1499\n",
      "dtype: int32\n"
     ]
    }
   ],
   "source": [
    "import pandas as pd\n",
    "import numpy as np\n",
    "s = pd.Series((np.random.dirichlet(np.ones(20) * 100, size=1) * 1500).round().cumsum(), dtype='int32')\n",
    "print(s)"
   ]
  },
  {
   "cell_type": "markdown",
   "metadata": {},
   "source": [
    "In order to convert a culumative series into the per-day mileage, we'll need to compute the difference between each value and the next one. For example, if `s[2]` is `202` and `s[3]` is `285`, then we know that their diferrence, `83`, is how far we rode on the fourth day (keeping in mind that the index for `s` is zero-based). Luckily pandas makes these easy by providing the `diff` method for series."
   ]
  },
  {
   "cell_type": "code",
   "execution_count": 28,
   "metadata": {},
   "outputs": [
    {
     "name": "stdout",
     "output_type": "stream",
     "text": [
      "0      NaN\n",
      "1     79.0\n",
      "2     68.0\n",
      "3     75.0\n",
      "4     75.0\n",
      "5     65.0\n",
      "6     80.0\n",
      "7     76.0\n",
      "8     74.0\n",
      "9     88.0\n",
      "10    79.0\n",
      "11    70.0\n",
      "12    68.0\n",
      "13    63.0\n",
      "14    71.0\n",
      "15    79.0\n",
      "16    79.0\n",
      "17    79.0\n",
      "18    71.0\n",
      "19    74.0\n",
      "dtype: float64\n"
     ]
    }
   ],
   "source": [
    "d = s.diff()\n",
    "print(d)"
   ]
  },
  {
   "cell_type": "markdown",
   "metadata": {},
   "source": [
    "As you can see, this one operations takes care of almost of the all work. Unfortunately, it doesn't compute the correct mileage for the first day, as there is no previous day to compare it to.\n",
    "\n",
    "There a couple of ways this could be solved. We could have added a `0` at the beginning of our input series and then the `diff` result would hold the correct value at index `1` for the first day. However, there would still be a `NaN` at the beginning of the series.\n",
    "\n",
    "So instead we'll simply replace the `NaN` in the above result with the first value from our input series, as the per-day mileage and culmulative value is guaranteed to be the same for the first day.\n",
    "\n",
    "Now that there are no `NaN`s in the series, we can also convert it to integers."
   ]
  },
  {
   "cell_type": "code",
   "execution_count": 29,
   "metadata": {},
   "outputs": [
    {
     "name": "stdout",
     "output_type": "stream",
     "text": [
      "0     86\n",
      "1     79\n",
      "2     68\n",
      "3     75\n",
      "4     75\n",
      "5     65\n",
      "6     80\n",
      "7     76\n",
      "8     74\n",
      "9     88\n",
      "10    79\n",
      "11    70\n",
      "12    68\n",
      "13    63\n",
      "14    71\n",
      "15    79\n",
      "16    79\n",
      "17    79\n",
      "18    71\n",
      "19    74\n",
      "dtype: int32\n"
     ]
    }
   ],
   "source": [
    "d[0] = s[0]\n",
    "d = d.astype('int32')\n",
    "print(d)"
   ]
  },
  {
   "cell_type": "markdown",
   "metadata": {},
   "source": [
    "That simple line fixes the one problem we had before and we are finished. "
   ]
  }
 ],
 "metadata": {
  "kernelspec": {
   "display_name": "Python 3",
   "language": "python",
   "name": "python3"
  },
  "language_info": {
   "codemirror_mode": {
    "name": "ipython",
    "version": 3
   },
   "file_extension": ".py",
   "mimetype": "text/x-python",
   "name": "python",
   "nbconvert_exporter": "python",
   "pygments_lexer": "ipython3",
   "version": "3.6.3"
  }
 },
 "nbformat": 4,
 "nbformat_minor": 2
}
